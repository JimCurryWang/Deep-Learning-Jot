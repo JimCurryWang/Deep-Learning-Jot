{
 "cells": [
  {
   "cell_type": "markdown",
   "metadata": {},
   "source": [
    "# Fully-connected Networks for Number Recognition"
   ]
  },
  {
   "cell_type": "code",
   "execution_count": 1,
   "metadata": {},
   "outputs": [],
   "source": [
    "import numpy as np\n",
    "from tensorflow import keras\n",
    "from tensorflow.keras import layers\n",
    "import matplotlib.pyplot as plt "
   ]
  },
  {
   "cell_type": "markdown",
   "metadata": {},
   "source": [
    "# Prepare the data"
   ]
  },
  {
   "cell_type": "code",
   "execution_count": 2,
   "metadata": {},
   "outputs": [],
   "source": [
    "# the data, split between train and test sets\n",
    "(x_train, y_train), (x_test, y_test) = keras.datasets.mnist.load_data()"
   ]
  },
  {
   "cell_type": "code",
   "execution_count": 3,
   "metadata": {},
   "outputs": [
    {
     "name": "stdout",
     "output_type": "stream",
     "text": [
      "x_train shape: (60000, 784)\n",
      "x_test shape: (10000, 784)\n",
      "y_train shape: (60000, 10)\n",
      "y_test shape: (10000, 10)\n"
     ]
    }
   ],
   "source": [
    "# Model / data parameters\n",
    "num_classes = 10\n",
    "input_shape = (784,)\n",
    "\n",
    "# flatten the data from 28*28 to 1*784\n",
    "x_train = x_train.reshape((60000,784))\n",
    "x_test = x_test.reshape((10000,784))\n",
    "\n",
    "print(\"x_train shape:\", x_train.shape)\n",
    "print(\"x_test shape:\", x_test.shape)\n",
    "\n",
    "# Scale images to the [0, 1] range\n",
    "x_train = x_train.astype(\"float32\") / 255 \n",
    "x_test = x_test.astype(\"float32\") / 255 \n",
    "\n",
    "\n",
    "# convert class vectors to binary class matrices\n",
    "y_train = keras.utils.to_categorical(y_train, num_classes)\n",
    "y_test = keras.utils.to_categorical(y_test, num_classes)\n",
    "\n",
    "print(\"y_train shape:\", y_train.shape)\n",
    "print(\"y_test shape:\", y_test.shape)\n"
   ]
  },
  {
   "cell_type": "markdown",
   "metadata": {},
   "source": [
    "# Build the model"
   ]
  },
  {
   "cell_type": "code",
   "execution_count": 4,
   "metadata": {},
   "outputs": [
    {
     "name": "stdout",
     "output_type": "stream",
     "text": [
      "Model: \"sequential\"\n",
      "_________________________________________________________________\n",
      "Layer (type)                 Output Shape              Param #   \n",
      "=================================================================\n",
      "dense (Dense)                (None, 256)               200960    \n",
      "_________________________________________________________________\n",
      "dense_1 (Dense)              (None, 10)                2570      \n",
      "=================================================================\n",
      "Total params: 203,530\n",
      "Trainable params: 203,530\n",
      "Non-trainable params: 0\n",
      "_________________________________________________________________\n"
     ]
    }
   ],
   "source": [
    "model = keras.Sequential()\n",
    "model.add(keras.layers.Dense(256, input_shape=(784,)))\n",
    "model.add(keras.layers.Dense(10, activation='softmax'))\n",
    "\n",
    "model.summary()"
   ]
  },
  {
   "cell_type": "markdown",
   "metadata": {},
   "source": [
    "# Train the model"
   ]
  },
  {
   "cell_type": "code",
   "execution_count": 5,
   "metadata": {},
   "outputs": [
    {
     "name": "stdout",
     "output_type": "stream",
     "text": [
      "Epoch 1/12\n",
      "375/375 [==============================] - 2s 3ms/step - loss: 0.5536 - accuracy: 0.8356 - val_loss: 0.2870 - val_accuracy: 0.9202\n",
      "Epoch 2/12\n",
      "375/375 [==============================] - 1s 2ms/step - loss: 0.3037 - accuracy: 0.9127 - val_loss: 0.2834 - val_accuracy: 0.9213\n",
      "Epoch 3/12\n",
      "375/375 [==============================] - 1s 2ms/step - loss: 0.2909 - accuracy: 0.9181 - val_loss: 0.2831 - val_accuracy: 0.9216\n",
      "Epoch 4/12\n",
      "375/375 [==============================] - 1s 2ms/step - loss: 0.2816 - accuracy: 0.9218 - val_loss: 0.2760 - val_accuracy: 0.9239\n",
      "Epoch 5/12\n",
      "375/375 [==============================] - 1s 2ms/step - loss: 0.2769 - accuracy: 0.9245 - val_loss: 0.2783 - val_accuracy: 0.9252\n",
      "Epoch 6/12\n",
      "375/375 [==============================] - 1s 2ms/step - loss: 0.2764 - accuracy: 0.9229 - val_loss: 0.2752 - val_accuracy: 0.9252\n",
      "Epoch 7/12\n",
      "375/375 [==============================] - 1s 2ms/step - loss: 0.2786 - accuracy: 0.9231 - val_loss: 0.2779 - val_accuracy: 0.9254\n",
      "Epoch 8/12\n",
      "375/375 [==============================] - 1s 2ms/step - loss: 0.2701 - accuracy: 0.9248 - val_loss: 0.2771 - val_accuracy: 0.9256\n",
      "Epoch 9/12\n",
      "375/375 [==============================] - 1s 2ms/step - loss: 0.2604 - accuracy: 0.9266 - val_loss: 0.2797 - val_accuracy: 0.9266\n",
      "Epoch 10/12\n",
      "375/375 [==============================] - 1s 3ms/step - loss: 0.2572 - accuracy: 0.9285 - val_loss: 0.2766 - val_accuracy: 0.9254\n",
      "Epoch 11/12\n",
      "375/375 [==============================] - 1s 3ms/step - loss: 0.2626 - accuracy: 0.9261 - val_loss: 0.2760 - val_accuracy: 0.9245\n",
      "Epoch 12/12\n",
      "375/375 [==============================] - 1s 3ms/step - loss: 0.2678 - accuracy: 0.9264 - val_loss: 0.2842 - val_accuracy: 0.9234\n"
     ]
    }
   ],
   "source": [
    "batch_size=128\n",
    "epochs=12\n",
    "\n",
    "model.compile(loss='categorical_crossentropy', \n",
    "              optimizer=keras.optimizers.RMSprop(), metrics='accuracy')\n",
    "\n",
    "history = model.fit(x_train, y_train, \n",
    "                    batch_size=batch_size,\n",
    "                    epochs=epochs, \n",
    "                    verbose=1, \n",
    "                    validation_split=0.2)\n"
   ]
  },
  {
   "cell_type": "markdown",
   "metadata": {},
   "source": [
    "# Plot the training history "
   ]
  },
  {
   "cell_type": "code",
   "execution_count": 6,
   "metadata": {},
   "outputs": [
    {
     "name": "stdout",
     "output_type": "stream",
     "text": [
      "dict_keys(['loss', 'accuracy', 'val_loss', 'val_accuracy'])\n"
     ]
    }
   ],
   "source": [
    "# list all data in history\n",
    "print(history.history.keys())"
   ]
  },
  {
   "cell_type": "code",
   "execution_count": 7,
   "metadata": {},
   "outputs": [
    {
     "data": {
      "image/png": "[encoded data removed]",
      "text/plain": [
       "<Figure size 432x288 with 1 Axes>"
      ]
     },
     "metadata": {
      "needs_background": "light"
     },
     "output_type": "display_data"
    },
    {
     "data": {
      "image/png": "[encoded data removed]",
      "text/plain": [
       "<Figure size 432x288 with 1 Axes>"
      ]
     },
     "metadata": {
      "needs_background": "light"
     },
     "output_type": "display_data"
    }
   ],
   "source": [
    "# summarize history for accuracy\n",
    "plt.title('model accuracy')\n",
    "plt.ylabel('accuracy')\n",
    "plt.xlabel('epoch')\n",
    "plt.legend(['train', 'test'], loc='upper left')\n",
    "\n",
    "plt.plot(history.history['accuracy'])\n",
    "plt.plot(history.history['val_accuracy'])\n",
    "plt.show()\n",
    "\n",
    "# summarize history for loss\n",
    "\n",
    "\n",
    "plt.title('model loss')\n",
    "plt.ylabel('loss')\n",
    "plt.xlabel('epoch')\n",
    "plt.legend(['train', 'test'], loc='upper left')\n",
    "\n",
    "plt.plot(history.history['loss'])\n",
    "plt.plot(history.history['val_loss'])\n",
    "plt.show()"
   ]
  },
  {
   "cell_type": "markdown",
   "metadata": {},
   "source": [
    "# Evaluate the trained model"
   ]
  },
  {
   "cell_type": "code",
   "execution_count": 8,
   "metadata": {},
   "outputs": [
    {
     "name": "stdout",
     "output_type": "stream",
     "text": [
      "Test loss: 0.2904048264026642\n",
      "Test accuracy: 0.9197999835014343\n"
     ]
    }
   ],
   "source": [
    "loss, accuracy = model.evaluate(x_test, y_test, verbose=0)\n",
    "print(\"Test loss:\", loss)\n",
    "print(\"Test accuracy:\", accuracy)"
   ]
  },
  {
   "cell_type": "markdown",
   "metadata": {},
   "source": [
    "# Changing model parameters: Add rectified activation function"
   ]
  },
  {
   "cell_type": "code",
   "execution_count": 9,
   "metadata": {},
   "outputs": [
    {
     "name": "stdout",
     "output_type": "stream",
     "text": [
      "Model: \"sequential_1\"\n",
      "_________________________________________________________________\n",
      "Layer (type)                 Output Shape              Param #   \n",
      "=================================================================\n",
      "dense_2 (Dense)              (None, 256)               200960    \n",
      "_________________________________________________________________\n",
      "dense_3 (Dense)              (None, 10)                2570      \n",
      "=================================================================\n",
      "Total params: 203,530\n",
      "Trainable params: 203,530\n",
      "Non-trainable params: 0\n",
      "_________________________________________________________________\n"
     ]
    }
   ],
   "source": [
    "\n",
    "# add rectified activation in the first hidden layer\n",
    "model = keras.Sequential()\n",
    "model.add(keras.layers.Dense(256, input_shape=(784,), activation = 'relu'))\n",
    "model.add(keras.layers.Dense(10, activation='softmax'))\n",
    "\n",
    "model.summary()"
   ]
  },
  {
   "cell_type": "code",
   "execution_count": 10,
   "metadata": {},
   "outputs": [
    {
     "name": "stdout",
     "output_type": "stream",
     "text": [
      "Epoch 1/12\n",
      "375/375 [==============================] - 1s 3ms/step - loss: 0.5284 - accuracy: 0.8521 - val_loss: 0.1813 - val_accuracy: 0.9467\n",
      "Epoch 2/12\n",
      "375/375 [==============================] - 1s 2ms/step - loss: 0.1502 - accuracy: 0.9546 - val_loss: 0.1416 - val_accuracy: 0.9586\n",
      "Epoch 3/12\n",
      "375/375 [==============================] - 1s 3ms/step - loss: 0.1004 - accuracy: 0.9707 - val_loss: 0.1021 - val_accuracy: 0.9688\n",
      "Epoch 4/12\n",
      "375/375 [==============================] - 1s 2ms/step - loss: 0.0745 - accuracy: 0.9791 - val_loss: 0.1020 - val_accuracy: 0.9699\n",
      "Epoch 5/12\n",
      "375/375 [==============================] - 1s 3ms/step - loss: 0.0569 - accuracy: 0.9841 - val_loss: 0.0841 - val_accuracy: 0.9762\n",
      "Epoch 6/12\n",
      "375/375 [==============================] - 1s 3ms/step - loss: 0.0441 - accuracy: 0.9876 - val_loss: 0.0834 - val_accuracy: 0.9747\n",
      "Epoch 7/12\n",
      "375/375 [==============================] - 1s 2ms/step - loss: 0.0345 - accuracy: 0.9904 - val_loss: 0.0852 - val_accuracy: 0.9738\n",
      "Epoch 8/12\n",
      "375/375 [==============================] - 1s 2ms/step - loss: 0.0263 - accuracy: 0.9935 - val_loss: 0.0814 - val_accuracy: 0.9772\n",
      "Epoch 9/12\n",
      "375/375 [==============================] - 1s 2ms/step - loss: 0.0231 - accuracy: 0.9942 - val_loss: 0.0833 - val_accuracy: 0.9762\n",
      "Epoch 10/12\n",
      "375/375 [==============================] - 1s 3ms/step - loss: 0.0179 - accuracy: 0.9957 - val_loss: 0.0846 - val_accuracy: 0.9769\n",
      "Epoch 11/12\n",
      "375/375 [==============================] - 1s 3ms/step - loss: 0.0139 - accuracy: 0.9965 - val_loss: 0.0832 - val_accuracy: 0.9780\n",
      "Epoch 12/12\n",
      "375/375 [==============================] - 1s 3ms/step - loss: 0.0110 - accuracy: 0.9975 - val_loss: 0.0856 - val_accuracy: 0.9783\n"
     ]
    }
   ],
   "source": [
    "batch_size=128\n",
    "epochs=12\n",
    "\n",
    "model.compile(loss='categorical_crossentropy', \n",
    "              optimizer=keras.optimizers.RMSprop(), metrics='accuracy')\n",
    "\n",
    "history = model.fit(x_train, y_train, \n",
    "                    batch_size=batch_size,\n",
    "                    epochs=epochs, \n",
    "                    verbose=1, \n",
    "                    validation_split=0.2)\n"
   ]
  },
  {
   "cell_type": "code",
   "execution_count": 11,
   "metadata": {},
   "outputs": [
    {
     "data": {
      "image/png": "[encoded data removed]",
      "text/plain": [
       "<Figure size 432x288 with 1 Axes>"
      ]
     },
     "metadata": {
      "needs_background": "light"
     },
     "output_type": "display_data"
    },
    {
     "data": {
      "image/png": "[encoded data removed]",
      "text/plain": [
       "<Figure size 432x288 with 1 Axes>"
      ]
     },
     "metadata": {
      "needs_background": "light"
     },
     "output_type": "display_data"
    }
   ],
   "source": [
    "# summarize history for accuracy\n",
    "plt.title('model accuracy')\n",
    "plt.ylabel('accuracy')\n",
    "plt.xlabel('epoch')\n",
    "plt.legend(['train', 'test'], loc='upper left')\n",
    "\n",
    "plt.plot(history.history['accuracy'])\n",
    "plt.plot(history.history['val_accuracy'])\n",
    "plt.show()\n",
    "\n",
    "# summarize history for loss\n",
    "\n",
    "\n",
    "plt.title('model loss')\n",
    "plt.ylabel('loss')\n",
    "plt.xlabel('epoch')\n",
    "plt.legend(['train', 'test'], loc='upper left')\n",
    "\n",
    "plt.plot(history.history['loss'])\n",
    "plt.plot(history.history['val_loss'])\n",
    "plt.show()"
   ]
  },
  {
   "cell_type": "markdown",
   "metadata": {},
   "source": [
    "# What is the effect for generalisation?"
   ]
  },
  {
   "cell_type": "markdown",
   "metadata": {},
   "source": [
    "how this training history differs from the previous model, for the training and validation sets. Describe what this tells us about the generalisation of the model."
   ]
  },
  {
   "cell_type": "markdown",
   "metadata": {},
   "source": [
    "The non-linear model 2 performs significantly better than the first model. The validation loss from Model 1 (0.2844) decreases significantly (0.0847) and the model accuracy increases by almost 5%. Still there was quite the gap between the validation and the training data, showing that both models even though they were imporved\n",
    "\n",
    "\n",
    "Overall, Orange seems stable and coherent to the training set, so it is a great model."
   ]
  },
  {
   "cell_type": "code",
   "execution_count": null,
   "metadata": {},
   "outputs": [],
   "source": []
  },
  {
   "cell_type": "code",
   "execution_count": null,
   "metadata": {},
   "outputs": [],
   "source": []
  },
  {
   "cell_type": "code",
   "execution_count": null,
   "metadata": {},
   "outputs": [],
   "source": []
  },
  {
   "cell_type": "markdown",
   "metadata": {},
   "source": [
    "# Image show the Training Image"
   ]
  },
  {
   "cell_type": "code",
   "execution_count": 12,
   "metadata": {},
   "outputs": [
    {
     "data": {
      "text/plain": [
       "<matplotlib.image.AxesImage at 0x167e74940>"
      ]
     },
     "execution_count": 12,
     "metadata": {},
     "output_type": "execute_result"
    },
    {
     "data": {
      "image/png": "[encoded data removed]",
      "text/plain": [
       "<Figure size 432x288 with 1 Axes>"
      ]
     },
     "metadata": {
      "needs_background": "light"
     },
     "output_type": "display_data"
    }
   ],
   "source": [
    "# the data, split between train and test sets\n",
    "(x_train, y_train), (x_test, y_test) = keras.datasets.mnist.load_data()\n",
    "\n",
    "n = 1000\n",
    "plt.imshow(x_train[n], cmap='Greys')"
   ]
  },
  {
   "cell_type": "code",
   "execution_count": 13,
   "metadata": {},
   "outputs": [
    {
     "data": {
      "text/plain": [
       "<matplotlib.image.AxesImage at 0x15adfcc70>"
      ]
     },
     "execution_count": 13,
     "metadata": {},
     "output_type": "execute_result"
    },
    {
     "data": {
      "image/png": "[encoded data removed]",
      "text/plain": [
       "<Figure size 432x288 with 1 Axes>"
      ]
     },
     "metadata": {
      "needs_background": "light"
     },
     "output_type": "display_data"
    }
   ],
   "source": [
    "n = 10101\n",
    "plt.imshow(x_train[n], cmap='Greys')"
   ]
  },
  {
   "cell_type": "markdown",
   "metadata": {},
   "source": [
    "# Check the prediction value"
   ]
  },
  {
   "cell_type": "code",
   "execution_count": 14,
   "metadata": {},
   "outputs": [
    {
     "name": "stdout",
     "output_type": "stream",
     "text": [
      "(28, 28)\n",
      "(1, 784)\n"
     ]
    }
   ],
   "source": [
    "inputs = x_test[1]\n",
    "print(inputs.shape)\n",
    "\n",
    "# inputs = np.expand_dims(inputs,-1)\n",
    "x = inputs.reshape(1,784)\n",
    "print(x.shape)"
   ]
  },
  {
   "cell_type": "code",
   "execution_count": 15,
   "metadata": {},
   "outputs": [
    {
     "name": "stdout",
     "output_type": "stream",
     "text": [
      "[[0. 0. 0. 0. 0. 0. 0. 1. 0. 0.]]\n",
      "[[0. 0. 1. 0. 0. 0. 0. 0. 0. 0.]]\n",
      "[[0. 1. 0. 0. 0. 0. 0. 0. 0. 0.]]\n",
      "[[1. 0. 0. 0. 0. 0. 0. 0. 0. 0.]]\n",
      "[[0. 0. 0. 0. 1. 0. 0. 0. 0. 0.]]\n",
      "[[0. 1. 0. 0. 0. 0. 0. 0. 0. 0.]]\n",
      "[[0. 0. 0. 0. 1. 0. 0. 0. 0. 0.]]\n",
      "[[0. 0. 0. 0. 0. 0. 0. 0. 0. 1.]]\n",
      "[[0. 0. 0. 0. 0. 1. 0. 0. 0. 0.]]\n",
      "[[0. 0. 0. 0. 0. 0. 0. 0. 0. 1.]]\n"
     ]
    }
   ],
   "source": [
    "for i in range(10):\n",
    "    x = x_test[i].reshape(1,784)\n",
    "    y = model.predict(x)\n",
    "    print(y)"
   ]
  },
  {
   "cell_type": "code",
   "execution_count": 16,
   "metadata": {},
   "outputs": [
    {
     "name": "stdout",
     "output_type": "stream",
     "text": [
      "0 [7]\n",
      "1 [2]\n",
      "2 [1]\n",
      "3 [0]\n",
      "4 [4]\n",
      "5 [1]\n",
      "6 [4]\n",
      "7 [9]\n",
      "8 [5]\n",
      "9 [9]\n"
     ]
    }
   ],
   "source": [
    "for i in range(10):\n",
    "    x = x_test[i].reshape(1,784)    \n",
    "    y = np.argmax(model.predict(x), axis=-1)\n",
    "    print(i,y)"
   ]
  },
  {
   "cell_type": "code",
   "execution_count": 17,
   "metadata": {},
   "outputs": [
    {
     "data": {
      "image/png": "[encoded data removed]",
      "text/plain": [
       "<Figure size 1440x720 with 10 Axes>"
      ]
     },
     "metadata": {
      "needs_background": "light"
     },
     "output_type": "display_data"
    }
   ],
   "source": [
    "%matplotlib inline\n",
    "\n",
    "from PIL import Image\n",
    "from matplotlib.pyplot import imshow\n",
    "from keras.preprocessing.image import img_to_array, array_to_img\n",
    "\n",
    "# random fake img\n",
    "# img = np.random.random(size=(100, 100, 3))\n",
    "\n",
    "columns = 5\n",
    "plt.figure(figsize=(20,10))\n",
    "\n",
    "for i in range(10):\n",
    "    x = x_test[i].reshape(28,28)\n",
    "    x = np.expand_dims(x,-1)\n",
    "    pil_img = array_to_img(x)\n",
    "    \n",
    "    plt.subplot(5, 10, i + 1)\n",
    "    plt.imshow(pil_img)"
   ]
  },
  {
   "cell_type": "markdown",
   "metadata": {},
   "source": [
    "# ploting the model architecture"
   ]
  },
  {
   "cell_type": "code",
   "execution_count": 19,
   "metadata": {},
   "outputs": [
    {
     "name": "stdout",
     "output_type": "stream",
     "text": [
      "('Failed to import pydot. You must `pip install pydot` and install graphviz (https://graphviz.gitlab.io/download/), ', 'for `pydotprint` to work.')\n"
     ]
    }
   ],
   "source": [
    "# ploting the model architecture\n",
    "\n",
    "# pip install pydot\n",
    "\n",
    "from tensorflow.keras.utils import plot_model\n",
    "\n",
    "plot_model(model, 'model.png', show_shapes=True)"
   ]
  },
  {
   "cell_type": "code",
   "execution_count": null,
   "metadata": {},
   "outputs": [],
   "source": []
  }
 ],
 "metadata": {
  "kernelspec": {
   "display_name": "Python 3",
   "language": "python",
   "name": "python3"
  },
  "language_info": {
   "codemirror_mode": {
    "name": "ipython",
    "version": 3
   },
   "file_extension": ".py",
   "mimetype": "text/x-python",
   "name": "python",
   "nbconvert_exporter": "python",
   "pygments_lexer": "ipython3",
   "version": "3.8.3"
  }
 },
 "nbformat": 4,
 "nbformat_minor": 4
}

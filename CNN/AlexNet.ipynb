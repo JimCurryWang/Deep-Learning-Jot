{
 "cells": [
  {
   "cell_type": "markdown",
   "metadata": {},
   "source": [
    "# Classic - AlexNet"
   ]
  },
  {
   "cell_type": "code",
   "execution_count": 7,
   "metadata": {},
   "outputs": [],
   "source": [
    "import numpy as np\n",
    "import keras\n",
    "from keras.datasets import mnist\n",
    "from keras.utils import np_utils\n",
    "from keras.models import Sequential\n",
    "from keras.layers import Dense, Activation, Conv2D, MaxPooling2D, Flatten, Dropout\n",
    "from keras.optimizers import Adam\n",
    "\n",
    "import matplotlib.pyplot as plt \n",
    "%matplotlib inline"
   ]
  },
  {
   "cell_type": "markdown",
   "metadata": {},
   "source": [
    "## Prepare the data"
   ]
  },
  {
   "cell_type": "code",
   "execution_count": 2,
   "metadata": {},
   "outputs": [
    {
     "name": "stdout",
     "output_type": "stream",
     "text": [
      "WARNING:tensorflow:From /Users/chenyu/opt/anaconda3/lib/python3.8/site-packages/tensorflow/python/compat/v2_compat.py:96: disable_resource_variables (from tensorflow.python.ops.variable_scope) is deprecated and will be removed in a future version.\n",
      "Instructions for updating:\n",
      "non-resource variables are not supported in the long term\n"
     ]
    }
   ],
   "source": [
    "# Load oxflower17 dataset\n",
    "import tflearn.datasets.oxflower17 as oxflower17\n",
    "from sklearn.model_selection import train_test_split\n",
    "\n",
    "#Load data and Split train and test data\n",
    "x, y = oxflower17.load_data(one_hot=True)\n",
    "X_train, X_test, y_train, y_test = train_test_split(x, y, test_size=0.2, shuffle = True)"
   ]
  },
  {
   "cell_type": "markdown",
   "metadata": {},
   "source": [
    "## Data augumentation"
   ]
  },
  {
   "cell_type": "code",
   "execution_count": 3,
   "metadata": {},
   "outputs": [],
   "source": [
    "# Data augumentation with Keras tools\n",
    "from keras.preprocessing.image import ImageDataGenerator\n",
    "\n",
    "img_gen = ImageDataGenerator(\n",
    "    rescale=1./255,\n",
    "    shear_range=0.2,\n",
    "    zoom_range=0.2,\n",
    "    horizontal_flip=True\n",
    "    )"
   ]
  },
  {
   "cell_type": "markdown",
   "metadata": {},
   "source": [
    "## Define the model"
   ]
  },
  {
   "cell_type": "code",
   "execution_count": 4,
   "metadata": {},
   "outputs": [
    {
     "name": "stdout",
     "output_type": "stream",
     "text": [
      "Model: \"sequential\"\n",
      "_________________________________________________________________\n",
      "Layer (type)                 Output Shape              Param #   \n",
      "=================================================================\n",
      "conv2d (Conv2D)              (None, 54, 54, 96)        34944     \n",
      "_________________________________________________________________\n",
      "max_pooling2d (MaxPooling2D) (None, 26, 26, 96)        0         \n",
      "_________________________________________________________________\n",
      "conv2d_1 (Conv2D)            (None, 26, 26, 256)       614656    \n",
      "_________________________________________________________________\n",
      "max_pooling2d_1 (MaxPooling2 (None, 12, 12, 256)       0         \n",
      "_________________________________________________________________\n",
      "conv2d_2 (Conv2D)            (None, 12, 12, 384)       885120    \n",
      "_________________________________________________________________\n",
      "conv2d_3 (Conv2D)            (None, 12, 12, 384)       1327488   \n",
      "_________________________________________________________________\n",
      "conv2d_4 (Conv2D)            (None, 12, 12, 256)       884992    \n",
      "_________________________________________________________________\n",
      "max_pooling2d_2 (MaxPooling2 (None, 5, 5, 256)         0         \n",
      "_________________________________________________________________\n",
      "flatten (Flatten)            (None, 6400)              0         \n",
      "_________________________________________________________________\n",
      "dense (Dense)                (None, 4096)              26218496  \n",
      "_________________________________________________________________\n",
      "dropout (Dropout)            (None, 4096)              0         \n",
      "_________________________________________________________________\n",
      "dense_1 (Dense)              (None, 4096)              16781312  \n",
      "_________________________________________________________________\n",
      "dropout_1 (Dropout)          (None, 4096)              0         \n",
      "_________________________________________________________________\n",
      "dense_2 (Dense)              (None, 1000)              4097000   \n",
      "_________________________________________________________________\n",
      "dropout_2 (Dropout)          (None, 1000)              0         \n",
      "_________________________________________________________________\n",
      "dense_3 (Dense)              (None, 17)                17017     \n",
      "=================================================================\n",
      "Total params: 50,861,025\n",
      "Trainable params: 50,861,025\n",
      "Non-trainable params: 0\n",
      "_________________________________________________________________\n"
     ]
    }
   ],
   "source": [
    "#Build AlexNet model\n",
    "def AlexNet(width, height, depth, classes):\n",
    "    \n",
    "    model = Sequential()\n",
    "    \n",
    "    #First Convolution and Pooling layer\n",
    "    model.add(Conv2D(96,(11,11),strides=(4,4),input_shape=(width,height,depth),padding='valid',activation='relu'))\n",
    "    model.add(MaxPooling2D(pool_size=(3,3),strides=(2,2)))\n",
    "    \n",
    "    #Second Convolution and Pooling layer\n",
    "    model.add(Conv2D(256,(5,5),strides=(1,1),padding='same',activation='relu'))\n",
    "    model.add(MaxPooling2D(pool_size=(3,3),strides=(2,2)))\n",
    "    \n",
    "    #Three Convolution layer and Pooling Layer\n",
    "    model.add(Conv2D(384,(3,3),strides=(1,1),padding='same',activation='relu'))\n",
    "    model.add(Conv2D(384,(3,3),strides=(1,1),padding='same',activation='relu'))\n",
    "    model.add(Conv2D(256,(3,3),strides=(1,1),padding='same',activation='relu'))\n",
    "    model.add(MaxPooling2D(pool_size=(3,3),strides=(2,2)))\n",
    "    \n",
    "    #Fully connection layer\n",
    "    model.add(Flatten())\n",
    "    model.add(Dense(4096,activation='relu'))\n",
    "    model.add(Dropout(0.5))\n",
    "    model.add(Dense(4096,activation='relu'))\n",
    "    model.add(Dropout(0.5))\n",
    "    model.add(Dense(1000,activation='relu'))\n",
    "    model.add(Dropout(0.5))\n",
    "    \n",
    "    #Classfication layer\n",
    "    model.add(Dense(classes,activation='softmax'))\n",
    "\n",
    "    return model\n",
    "  \n",
    "AlexNet_model = AlexNet(224,224,3,17)\n",
    "AlexNet_model.summary()"
   ]
  },
  {
   "cell_type": "markdown",
   "metadata": {},
   "source": [
    "## Training and Fit"
   ]
  },
  {
   "cell_type": "code",
   "execution_count": 5,
   "metadata": {},
   "outputs": [
    {
     "name": "stdout",
     "output_type": "stream",
     "text": [
      "Epoch 1/30\n",
      "68/68 [==============================] - ETA: 0s - batch: 33.5000 - size: 16.0000 - loss: 2.8312 - acc: 0.0597"
     ]
    },
    {
     "name": "stderr",
     "output_type": "stream",
     "text": [
      "/Users/chenyu/opt/anaconda3/lib/python3.8/site-packages/tensorflow/python/keras/engine/training.py:2325: UserWarning: `Model.state_updates` will be removed in a future version. This property should not be used in TensorFlow 2.0, as `updates` are applied automatically.\n",
      "  warnings.warn('`Model.state_updates` will be removed in a future version. '\n"
     ]
    },
    {
     "name": "stdout",
     "output_type": "stream",
     "text": [
      "68/68 [==============================] - 54s 775ms/step - batch: 33.5000 - size: 16.0000 - loss: 2.8312 - acc: 0.0597 - val_loss: 2.8298 - val_acc: 0.0515\n",
      "Epoch 2/30\n",
      "68/68 [==============================] - 54s 791ms/step - batch: 33.5000 - size: 16.0000 - loss: 2.8163 - acc: 0.0643 - val_loss: 2.8070 - val_acc: 0.0551\n",
      "Epoch 3/30\n",
      "68/68 [==============================] - 56s 823ms/step - batch: 33.5000 - size: 16.0000 - loss: 2.7597 - acc: 0.0726 - val_loss: 2.6510 - val_acc: 0.1287\n",
      "Epoch 4/30\n",
      "68/68 [==============================] - 54s 797ms/step - batch: 33.5000 - size: 16.0000 - loss: 2.5915 - acc: 0.1259 - val_loss: 2.3583 - val_acc: 0.1287\n",
      "Epoch 5/30\n",
      "68/68 [==============================] - 55s 810ms/step - batch: 33.5000 - size: 16.0000 - loss: 2.4642 - acc: 0.1232 - val_loss: 2.2825 - val_acc: 0.2390\n",
      "Epoch 6/30\n",
      "68/68 [==============================] - 54s 798ms/step - batch: 33.5000 - size: 16.0000 - loss: 2.4360 - acc: 0.1406 - val_loss: 2.2383 - val_acc: 0.2463\n",
      "Epoch 7/30\n",
      "68/68 [==============================] - 54s 799ms/step - batch: 33.5000 - size: 16.0000 - loss: 2.3943 - acc: 0.1572 - val_loss: 2.2066 - val_acc: 0.2463\n",
      "Epoch 8/30\n",
      "68/68 [==============================] - 54s 791ms/step - batch: 33.5000 - size: 16.0000 - loss: 2.3538 - acc: 0.1765 - val_loss: 2.1859 - val_acc: 0.2757\n",
      "Epoch 9/30\n",
      "68/68 [==============================] - 58s 860ms/step - batch: 33.5000 - size: 16.0000 - loss: 2.2985 - acc: 0.1903 - val_loss: 2.1430 - val_acc: 0.2831\n",
      "Epoch 10/30\n",
      "68/68 [==============================] - 59s 870ms/step - batch: 33.5000 - size: 16.0000 - loss: 2.2816 - acc: 0.1976 - val_loss: 2.0862 - val_acc: 0.3051\n",
      "Epoch 11/30\n",
      "68/68 [==============================] - 68s 1s/step - batch: 33.5000 - size: 16.0000 - loss: 2.2268 - acc: 0.2169 - val_loss: 2.0213 - val_acc: 0.3088\n",
      "Epoch 12/30\n",
      "68/68 [==============================] - 70s 1s/step - batch: 33.5000 - size: 16.0000 - loss: 2.1594 - acc: 0.2417 - val_loss: 1.9748 - val_acc: 0.3493\n",
      "Epoch 13/30\n",
      "68/68 [==============================] - 62s 915ms/step - batch: 33.5000 - size: 16.0000 - loss: 2.1273 - acc: 0.2279 - val_loss: 1.9562 - val_acc: 0.3199\n",
      "Epoch 14/30\n",
      "68/68 [==============================] - 59s 870ms/step - batch: 33.5000 - size: 16.0000 - loss: 2.0621 - acc: 0.2638 - val_loss: 1.9337 - val_acc: 0.2794\n",
      "Epoch 15/30\n",
      "68/68 [==============================] - 61s 891ms/step - batch: 33.5000 - size: 16.0000 - loss: 2.0015 - acc: 0.3079 - val_loss: 1.8685 - val_acc: 0.3971\n",
      "Epoch 16/30\n",
      "68/68 [==============================] - 58s 859ms/step - batch: 33.5000 - size: 16.0000 - loss: 1.9570 - acc: 0.3217 - val_loss: 1.7194 - val_acc: 0.4081\n",
      "Epoch 17/30\n",
      "68/68 [==============================] - 59s 867ms/step - batch: 33.5000 - size: 16.0000 - loss: 1.8992 - acc: 0.3410 - val_loss: 1.6647 - val_acc: 0.4228\n",
      "Epoch 18/30\n",
      "68/68 [==============================] - 61s 903ms/step - batch: 33.5000 - size: 16.0000 - loss: 1.8154 - acc: 0.3787 - val_loss: 1.5897 - val_acc: 0.4559\n",
      "Epoch 19/30\n",
      "68/68 [==============================] - 60s 884ms/step - batch: 33.5000 - size: 16.0000 - loss: 1.7627 - acc: 0.3961 - val_loss: 1.6066 - val_acc: 0.4191\n",
      "Epoch 20/30\n",
      "68/68 [==============================] - 57s 835ms/step - batch: 33.5000 - size: 16.0000 - loss: 1.6687 - acc: 0.3989 - val_loss: 1.5660 - val_acc: 0.4449\n",
      "Epoch 21/30\n",
      "68/68 [==============================] - 63s 932ms/step - batch: 33.5000 - size: 16.0000 - loss: 1.6741 - acc: 0.4246 - val_loss: 1.4755 - val_acc: 0.4559\n",
      "Epoch 22/30\n",
      "68/68 [==============================] - 56s 828ms/step - batch: 33.5000 - size: 16.0000 - loss: 1.5792 - acc: 0.4485 - val_loss: 1.4176 - val_acc: 0.4963\n",
      "Epoch 23/30\n",
      "68/68 [==============================] - 55s 813ms/step - batch: 33.5000 - size: 16.0000 - loss: 1.5977 - acc: 0.4439 - val_loss: 1.4726 - val_acc: 0.4963\n",
      "Epoch 24/30\n",
      "68/68 [==============================] - 58s 860ms/step - batch: 33.5000 - size: 16.0000 - loss: 1.5219 - acc: 0.4890 - val_loss: 1.4166 - val_acc: 0.5037\n",
      "Epoch 25/30\n",
      "68/68 [==============================] - 62s 907ms/step - batch: 33.5000 - size: 16.0000 - loss: 1.5139 - acc: 0.4816 - val_loss: 1.3398 - val_acc: 0.5331\n",
      "Epoch 26/30\n",
      "68/68 [==============================] - 62s 916ms/step - batch: 33.5000 - size: 16.0000 - loss: 1.4587 - acc: 0.5009 - val_loss: 1.3805 - val_acc: 0.5441\n",
      "Epoch 27/30\n",
      "68/68 [==============================] - 60s 883ms/step - batch: 33.5000 - size: 16.0000 - loss: 1.4044 - acc: 0.4945 - val_loss: 1.2551 - val_acc: 0.5662\n",
      "Epoch 28/30\n",
      "68/68 [==============================] - 57s 836ms/step - batch: 33.5000 - size: 16.0000 - loss: 1.4165 - acc: 0.4890 - val_loss: 1.3075 - val_acc: 0.5257\n",
      "Epoch 29/30\n",
      "68/68 [==============================] - 57s 840ms/step - batch: 33.5000 - size: 16.0000 - loss: 1.3452 - acc: 0.5478 - val_loss: 1.2811 - val_acc: 0.5846\n",
      "Epoch 30/30\n",
      "68/68 [==============================] - 59s 863ms/step - batch: 33.5000 - size: 16.0000 - loss: 1.3450 - acc: 0.5432 - val_loss: 1.4163 - val_acc: 0.5294\n"
     ]
    }
   ],
   "source": [
    "AlexNet_model.compile(optimizer=Adam(lr=0.00001, beta_1=0.9, beta_2=0.999, epsilon=1e-08),\n",
    "                      loss = 'categorical_crossentropy',\n",
    "                      metrics=['accuracy'])\n",
    "\n",
    "#Start training using dataaugumentation generator\n",
    "History = AlexNet_model.fit(img_gen.flow(X_train*255, y_train, batch_size = 16),\n",
    "                            steps_per_epoch = len(X_train)/16, \n",
    "                            validation_data = (X_test,y_test), \n",
    "                            epochs = 30 )"
   ]
  },
  {
   "cell_type": "markdown",
   "metadata": {},
   "source": [
    "## Plot the training history (Valiadation on test data)"
   ]
  },
  {
   "cell_type": "code",
   "execution_count": 17,
   "metadata": {},
   "outputs": [
    {
     "name": "stdout",
     "output_type": "stream",
     "text": [
      "dict_keys(['loss', 'acc', 'val_loss', 'val_acc'])\n"
     ]
    }
   ],
   "source": [
    "print(History.history.keys())"
   ]
  },
  {
   "cell_type": "code",
   "execution_count": 18,
   "metadata": {},
   "outputs": [
    {
     "data": {
      "image/png": "[encoded data removed]",
      "text/plain": [
       "<Figure size 1080x360 with 2 Axes>"
      ]
     },
     "metadata": {
      "needs_background": "light"
     },
     "output_type": "display_data"
    }
   ],
   "source": [
    "#Plot Loss and accuracy\n",
    "plt.figure(figsize = (15,5))\n",
    "plt.subplot(1,2,1)\n",
    "plt.plot(History.history['acc'])\n",
    "plt.plot(History.history['val_acc'])\n",
    "plt.title('model accuracy')\n",
    "plt.ylabel('accuracy')\n",
    "plt.xlabel('epoch')\n",
    "plt.legend(['train', 'test'], loc='upper left')\n",
    "\n",
    "plt.subplot(1,2,2)\n",
    "plt.plot(History.history['loss'])\n",
    "plt.plot(History.history['val_loss'])\n",
    "plt.title('model loss')\n",
    "plt.ylabel('loss')\n",
    "plt.xlabel('epoch')\n",
    "plt.legend(['train', 'test'], loc='upper left')\n",
    "plt.show()\n",
    "plt.show()"
   ]
  },
  {
   "cell_type": "markdown",
   "metadata": {},
   "source": [
    "## Save Model"
   ]
  },
  {
   "cell_type": "code",
   "execution_count": 20,
   "metadata": {},
   "outputs": [],
   "source": [
    "# Calling `save('model')` creates a Model folder `model`.\n",
    "AlexNet_model.save(\"AlexNet\")"
   ]
  },
  {
   "cell_type": "code",
   "execution_count": 22,
   "metadata": {},
   "outputs": [
    {
     "name": "stdout",
     "output_type": "stream",
     "text": [
      "WARNING:tensorflow:From /Users/chenyu/opt/anaconda3/lib/python3.8/site-packages/tensorflow/python/ops/init_ops.py:97: calling GlorotUniform.__init__ (from tensorflow.python.ops.init_ops) with dtype is deprecated and will be removed in a future version.\n",
      "Instructions for updating:\n",
      "Call initializer instance with the dtype argument instead of passing it to the constructor\n",
      "WARNING:tensorflow:From /Users/chenyu/opt/anaconda3/lib/python3.8/site-packages/tensorflow/python/ops/init_ops.py:97: calling Zeros.__init__ (from tensorflow.python.ops.init_ops) with dtype is deprecated and will be removed in a future version.\n",
      "Instructions for updating:\n",
      "Call initializer instance with the dtype argument instead of passing it to the constructor\n"
     ]
    }
   ],
   "source": [
    "# It can be used to reconstruct the model identically.\n",
    "reconstructed_model = keras.models.load_model(\"AlexNet\")"
   ]
  },
  {
   "cell_type": "code",
   "execution_count": 24,
   "metadata": {},
   "outputs": [
    {
     "name": "stderr",
     "output_type": "stream",
     "text": [
      "/Users/chenyu/opt/anaconda3/lib/python3.8/site-packages/tensorflow/python/keras/engine/training.py:2325: UserWarning: `Model.state_updates` will be removed in a future version. This property should not be used in TensorFlow 2.0, as `updates` are applied automatically.\n",
      "  warnings.warn('`Model.state_updates` will be removed in a future version. '\n"
     ]
    },
    {
     "name": "stdout",
     "output_type": "stream",
     "text": [
      "Test loss: 1.4162681874106913\n",
      "Test accuracy: 0.5294118\n"
     ]
    }
   ],
   "source": [
    "reconstructed_loss, reconstructed_accuracy = reconstructed_model.evaluate(X_test, y_test, verbose=0)\n",
    "print(\"Test loss:\", reconstructed_loss)\n",
    "print(\"Test accuracy:\", reconstructed_accuracy)"
   ]
  },
  {
   "cell_type": "code",
   "execution_count": null,
   "metadata": {},
   "outputs": [],
   "source": []
  }
 ],
 "metadata": {
  "kernelspec": {
   "display_name": "Python 3",
   "language": "python",
   "name": "python3"
  },
  "language_info": {
   "codemirror_mode": {
    "name": "ipython",
    "version": 3
   },
   "file_extension": ".py",
   "mimetype": "text/x-python",
   "name": "python",
   "nbconvert_exporter": "python",
   "pygments_lexer": "ipython3",
   "version": "3.8.3"
  }
 },
 "nbformat": 4,
 "nbformat_minor": 4
}

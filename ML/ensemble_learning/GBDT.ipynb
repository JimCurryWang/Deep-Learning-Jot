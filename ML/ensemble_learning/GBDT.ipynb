{
 "cells": [
  {
   "cell_type": "markdown",
   "metadata": {},
   "source": [
    "\n",
    "### Model \n",
    "\n",
    "- Decision Tree\n",
    "\n",
    "- ensemble learning\n",
    "    - Random Forest: ensemble.RandomForestClassiﬁer (Bagging)\n",
    "    - Adaboost: ensemble.AdaBoostClassiﬁer (Boosting)\n",
    "    - Xgboost\n",
    "    - GBDT: ensemble.GradientBoostingClassiﬁer (Boosting)\n",
    "\n",
    "### ensemble learning\n",
    "- ensemble estimator \n",
    "- Bagging\n",
    "- Boosting\n",
    "- stacking\n",
    "\n",
    "\n",
    "### Reference\n",
    "\n",
    "[ scikit-learn: Ensemble methods ](https://scikit-learn.org/stable/modules/ensemble.html#adaboost)"
   ]
  },
  {
   "cell_type": "markdown",
   "metadata": {},
   "source": [
    "# Import Package\n",
    "#### Using the Red wine data set "
   ]
  },
  {
   "cell_type": "code",
   "execution_count": 1,
   "metadata": {},
   "outputs": [],
   "source": [
    "from sklearn.model_selection import GridSearchCV\n",
    "from sklearn.model_selection import train_test_split\n",
    "\n",
    "import sklearn.metrics as metrics\n",
    "\n",
    "from sklearn.tree import DecisionTreeClassifier\n",
    "from sklearn.ensemble import RandomForestClassifier\n",
    "from sklearn.ensemble import GradientBoostingClassifier\n",
    "\n",
    "from sklearn.datasets import load_wine\n",
    "\n",
    "%matplotlib inline\n",
    "from sklearn.model_selection import cross_val_score\n",
    "import matplotlib.pyplot as plt\n",
    "\n",
    "import numpy as np"
   ]
  },
  {
   "cell_type": "code",
   "execution_count": 2,
   "metadata": {},
   "outputs": [
    {
     "name": "stdout",
     "output_type": "stream",
     "text": [
      "[[1.423e+01 1.710e+00 2.430e+00 ... 1.040e+00 3.920e+00 1.065e+03]\n",
      " [1.320e+01 1.780e+00 2.140e+00 ... 1.050e+00 3.400e+00 1.050e+03]\n",
      " [1.316e+01 2.360e+00 2.670e+00 ... 1.030e+00 3.170e+00 1.185e+03]\n",
      " ...\n",
      " [1.327e+01 4.280e+00 2.260e+00 ... 5.900e-01 1.560e+00 8.350e+02]\n",
      " [1.317e+01 2.590e+00 2.370e+00 ... 6.000e-01 1.620e+00 8.400e+02]\n",
      " [1.413e+01 4.100e+00 2.740e+00 ... 6.100e-01 1.600e+00 5.600e+02]]\n",
      "[0 0 0 0 0 0 0 0 0 0 0 0 0 0 0 0 0 0 0 0 0 0 0 0 0 0 0 0 0 0 0 0 0 0 0 0 0\n",
      " 0 0 0 0 0 0 0 0 0 0 0 0 0 0 0 0 0 0 0 0 0 0 1 1 1 1 1 1 1 1 1 1 1 1 1 1 1\n",
      " 1 1 1 1 1 1 1 1 1 1 1 1 1 1 1 1 1 1 1 1 1 1 1 1 1 1 1 1 1 1 1 1 1 1 1 1 1\n",
      " 1 1 1 1 1 1 1 1 1 1 1 1 1 1 1 1 1 1 1 2 2 2 2 2 2 2 2 2 2 2 2 2 2 2 2 2 2\n",
      " 2 2 2 2 2 2 2 2 2 2 2 2 2 2 2 2 2 2 2 2 2 2 2 2 2 2 2 2 2 2]\n"
     ]
    }
   ],
   "source": [
    "wine = load_wine()\n",
    "print(wine.data)\n",
    "print(wine.target)"
   ]
  },
  {
   "cell_type": "markdown",
   "metadata": {},
   "source": [
    "# Model"
   ]
  },
  {
   "cell_type": "code",
   "execution_count": 10,
   "metadata": {},
   "outputs": [
    {
     "name": "stdout",
     "output_type": "stream",
     "text": [
      "Sigle Tree:0.9444444444444444\n",
      "Random Forest:1.0\n",
      "Gradient Boosting:1.0\n"
     ]
    }
   ],
   "source": [
    "# train test split \n",
    "X_train, X_test, Y_train, Y_test = train_test_split(wine.data, wine.target,test_size=0.3)\n",
    "\n",
    "# Model \n",
    "dtc = DecisionTreeClassifier(random_state=0)\n",
    "rfc = RandomForestClassifier(random_state=0)\n",
    "\n",
    "# gbc = GradientBoostingClassifier(n_estimators=100, learning_rate=1.0,\n",
    "#                                  max_depth=1, random_state=0)\n",
    "gbc = GradientBoostingClassifier(random_state=0)\n",
    "\n",
    "\n",
    "dtc = dtc.fit(X_train,Y_train)\n",
    "rfc = rfc.fit(X_train,Y_train)\n",
    "gbc = gbc.fit(X_train, Y_train)\n",
    "\n",
    "score_dt = dtc.score(X_test,Y_test)\n",
    "score_rf = rfc.score(X_test,Y_test)\n",
    "score_gb = gbc.score(X_test,Y_test)\n",
    "\n",
    "print(\"Sigle Tree:{}\".format(score_dt)) \n",
    "print(\"Random Forest:{}\".format(score_rf))\n",
    "print(\"Gradient Boosting:{}\".format(score_gb))"
   ]
  }
 ],
 "metadata": {
  "kernelspec": {
   "display_name": "Python 3",
   "language": "python",
   "name": "python3"
  },
  "language_info": {
   "codemirror_mode": {
    "name": "ipython",
    "version": 3
   },
   "file_extension": ".py",
   "mimetype": "text/x-python",
   "name": "python",
   "nbconvert_exporter": "python",
   "pygments_lexer": "ipython3",
   "version": "3.8.3"
  }
 },
 "nbformat": 4,
 "nbformat_minor": 4
}
